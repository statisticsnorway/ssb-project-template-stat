{
 "cells": [
  {
   "cell_type": "markdown",
   "id": "53045c5c-da40-40f1-b6c3-b617a9f5e979",
   "metadata": {},
   "source": [
    "### Demo av importer fra produksjonsnivå"
   ]
  },
  {
   "cell_type": "code",
   "execution_count": null,
   "id": "37b76c57-f0f4-418a-92eb-8885c9d39afa",
   "metadata": {},
   "outputs": [],
   "source": [
    "# Do local imports here\n",
    "from {{cookiecutter.project_name}}_functions.fizzbuzz import fizzbuzz"
   ]
  },
  {
   "cell_type": "code",
   "execution_count": null,
   "id": "653b7859-db6e-4d5f-ab11-5d5c031702c8",
   "metadata": {},
   "outputs": [],
   "source": [
    "# Example local function import\n",
    "for x in fizzbuzz(range(1,26)): print(x)"
   ]
  }
 ],
 "metadata": {
  "language_info": {
   "codemirror_mode": {
    "name": "ipython"
   },
   "file_extension": ".py",
   "mimetype": "text/x-python",
   "name": "python",
   "nbconvert_exporter": "python"
  }
 },
 "nbformat": 4,
 "nbformat_minor": 5
}
